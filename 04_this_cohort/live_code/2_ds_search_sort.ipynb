{
 "cells": [
  {
   "cell_type": "code",
   "execution_count": null,
   "id": "43d198d9-a18f-4596-9f28-8372b65e77f8",
   "metadata": {},
   "outputs": [],
   "source": [
    "# Review of Lecture 1"
   ]
  },
  {
   "cell_type": "code",
   "execution_count": 18,
   "id": "5038f16d-8e79-47e3-8b13-129e1eeabee4",
   "metadata": {},
   "outputs": [],
   "source": [
    "import timeit\n",
    "import random"
   ]
  },
  {
   "cell_type": "code",
   "execution_count": 19,
   "id": "0e20bb75-9808-49d7-9ba6-a022b735016d",
   "metadata": {},
   "outputs": [],
   "source": [
    "small_list = list(range(10)) # 10\n",
    "medium_list = list(range(10**2)) # 100\n",
    "big_list = list(range(10**4)) #  10000\n",
    "\n",
    "random.shuffle(small_list)\n",
    "random.shuffle(medium_list)\n",
    "random.shuffle(big_list)"
   ]
  },
  {
   "cell_type": "code",
   "execution_count": null,
   "id": "299c321f-e28d-4213-aa13-726bf5a65b14",
   "metadata": {},
   "outputs": [],
   "source": [
    "# O(1) - Constant - The runtime doesn't change based off the size of the input\n",
    "# O(log n) - Log n - The runtime scales logarithmacally based off the size of the input\n",
    "# O(n) - linear time - The runtime scales linearly/proportionally based off the size of the input 100 -> 1000, runtime 2 seconds -> 20 seconds\n",
    "# O(nlogn) - nlogn time - The runtime scales nlogn 10 -> 20\n",
    "# O(n^2) - quadratic time - The runtime scales off a factor of n^2, if we double the size of the input, the runtime quadruples (2^2 = 4)\n",
    "# O(n^{3, 4, 5, 6..}) - Polynomial time\n",
    "# O(2^n) - Exponential time\n",
    "# O(n!) - Factorial time"
   ]
  },
  {
   "cell_type": "code",
   "execution_count": 20,
   "id": "6c2d1f1b-618f-4be1-9540-c046c072a4f0",
   "metadata": {},
   "outputs": [
    {
     "name": "stdout",
     "output_type": "stream",
     "text": [
      "Time to run on small list: 0.000077\n",
      "Time to run on medium list: 0.000075 which is 0.97 times the small list\n",
      "Time to run on big list: 0.000073 which is 0.9682 times the medium list, and 0.9682 times the small list\n"
     ]
    }
   ],
   "source": [
    "def get_first_element(lst):\n",
    "    return lst[0]\n",
    "\n",
    "\n",
    "a = timeit.timeit(\"get_first_element(small_list)\", number=1000, globals=globals())\n",
    "b = timeit.timeit(\"get_first_element(medium_list)\", number=1000, globals=globals())\n",
    "c = timeit.timeit(\"get_first_element(big_list)\", number=1000, globals=globals())\n",
    "\n",
    "print(\"Time to run on small list: {0:.6f}\".format(a))\n",
    "print(\"Time to run on medium list: {0:.6f} which is {1:.2f} times the small list\".format(b, b/a))\n",
    "print(\"Time to run on big list: {0:.6f} which is {1:.4f} times the medium list, and {1:.4f} times the small list\".format(c, c/b, c/a))\n",
    "\n",
    "# O(1)"
   ]
  },
  {
   "cell_type": "code",
   "execution_count": 15,
   "id": "1ceb5d7c-231e-4d68-829d-39ac694189fa",
   "metadata": {},
   "outputs": [
    {
     "name": "stdout",
     "output_type": "stream",
     "text": [
      "Time to run on small list: 0.000399\n",
      "Time to run on medium list: 0.000320 which is 0.80 times the small list\n",
      "Time to run on big list: 0.000325 which is 1.0130 times the medium list, and 1.0130 times the small list\n"
     ]
    }
   ],
   "source": [
    "def add_first_10_numbers(lst): # Precondition list should have atleast 10 elements\n",
    "    total = lst[0]\n",
    "    total = total + lst[1]\n",
    "    total = total + lst[2]\n",
    "    total = total + lst[3]\n",
    "    total = total + lst[4]\n",
    "    total = total + lst[5]\n",
    "    total = total + lst[6]\n",
    "    total = total + lst[7]\n",
    "    total = total + lst[8]\n",
    "    total = total + lst[9]\n",
    "    return total\n",
    " \n",
    "\n",
    "a = timeit.timeit(\"add_first_10_numbers(small_list)\", number=1000, globals=globals())\n",
    "b = timeit.timeit(\"add_first_10_numbers(medium_list)\", number=1000, globals=globals())\n",
    "c = timeit.timeit(\"add_first_10_numbers(big_list)\", number=1000, globals=globals())\n",
    "print(\"Time to run on small list: {0:.6f}\".format(a))\n",
    "print(\"Time to run on medium list: {0:.6f} which is {1:.2f} times the small list\".format(b, b/a))\n",
    "print(\"Time to run on big list: {0:.6f} which is {1:.4f} times the medium list, and {1:.4f} times the small list\".format(c, c/b, c/a))"
   ]
  },
  {
   "cell_type": "code",
   "execution_count": 7,
   "id": "dfd49137-d513-41ba-ab2f-712c8be453d6",
   "metadata": {},
   "outputs": [
    {
     "name": "stdout",
     "output_type": "stream",
     "text": [
      "Time to run on small list: 0.000466\n",
      "Time to run on medium list: 0.005414 which is 11.61 times the small list\n",
      "Time to run on big list: 0.35269434699876 which is 65.14290055480708 times the medium list, and 756.19436853389 times the small list\n"
     ]
    }
   ],
   "source": [
    "def get_sum(lst):\n",
    "    total = 0\n",
    "    for item in lst:\n",
    "        total = total + item\n",
    "    return total\n",
    "\n",
    "\n",
    "a = timeit.timeit(\"get_sum(small_list)\", number=1000, globals=globals())\n",
    "b = timeit.timeit(\"get_sum(medium_list)\", number=1000, globals=globals())\n",
    "c = timeit.timeit(\"get_sum(big_list)\", number=1000, globals=globals())\n",
    "print(\"Time to run on small list: {0:.6f}\".format(a))\n",
    "print(\"Time to run on medium list: {0:.6f} which is {1:.2f} times the small list\".format(b, b/a))\n",
    "print(\"Time to run on big list: {} which is {} times the medium list, and {} times the small list\".format(c, c/b, c/a))"
   ]
  },
  {
   "cell_type": "code",
   "execution_count": 23,
   "id": "08d882a3-343f-4c9e-bf54-48880f2968e8",
   "metadata": {},
   "outputs": [
    {
     "name": "stdout",
     "output_type": "stream",
     "text": [
      "Time to run on small list: 0.001909\n",
      "Time to run on medium list: 0.007461 which is 3.91 times the small list\n",
      "Time to run on big list: 0.9362280579989601 which is 125.47498108095213 times the medium list, and 490.4187645784239 times the small list\n"
     ]
    }
   ],
   "source": [
    "def search(arr, target):\n",
    "    for i in range(len(arr)):\n",
    "        if arr[i] == target:\n",
    "            return i\n",
    "    return -1\n",
    "\n",
    "a = timeit.timeit(\"search(small_list, random.random() * len(small_list))\", number=1000, globals=globals())\n",
    "b = timeit.timeit(\"search(medium_list, random.random() * len(medium_list))\", number=1000, globals=globals())\n",
    "c = timeit.timeit(\"search(big_list, random.random() * len(big_list))\", number=1000, globals=globals())\n",
    "print(\"Time to run on small list: {0:.6f}\".format(a))\n",
    "print(\"Time to run on medium list: {0:.6f} which is {1:.2f} times the small list\".format(b, b/a))\n",
    "print(\"Time to run on big list: {} which is {} times the medium list, and {} times the small list\".format(c, c/b, c/a))"
   ]
  },
  {
   "cell_type": "code",
   "execution_count": 24,
   "id": "ec1d1a40-2ef1-4417-89db-eb6f038c967f",
   "metadata": {},
   "outputs": [
    {
     "name": "stdout",
     "output_type": "stream",
     "text": [
      "Time to run on small list: 0.000063\n",
      "Time to run on medium list: 0.004171 which is 65.95 times the small list\n",
      "Time to run on big list: 40.42420547200163 which is 9690.886525859283 times the medium list, and 639077.46173465 times the small list\n"
     ]
    }
   ],
   "source": [
    "def bubble_sort(arr):\n",
    "    n = len(arr)\n",
    "    for i in range(n):\n",
    "        for j in range(0, n-i-1):\n",
    "            if arr[j] > arr[j+1]:\n",
    "                arr[j], arr[j+1] = arr[j+1], arr[j]\n",
    "    return arr\n",
    "\n",
    "\n",
    "a = timeit.timeit(\"bubble_sort(small_list)\", number=10, globals=globals())\n",
    "b = timeit.timeit(\"bubble_sort(medium_list)\", number=10, globals=globals())\n",
    "c = timeit.timeit(\"bubble_sort(big_list)\", number=10, globals=globals())\n",
    "print(\"Time to run on small list: {0:.6f}\".format(a))\n",
    "print(\"Time to run on medium list: {0:.6f} which is {1:.2f} times the small list\".format(b, b/a))\n",
    "print(\"Time to run on big list: {} which is {} times the medium list, and {} times the small list\".format(c, c/b, c/a))"
   ]
  },
  {
   "cell_type": "code",
   "execution_count": 25,
   "id": "cf89d78f-77d9-4888-9b16-a313e791e8a9",
   "metadata": {},
   "outputs": [
    {
     "name": "stdout",
     "output_type": "stream",
     "text": [
      "Time to run on small list: 0.000099\n",
      "Time to run on medium list: 0.000138 which is 1.39 times the small list\n",
      "Time to run on big list: 0.0006394619995262474 which is 4.624801038992503 times the medium list, and 6.44248753928969 times the small list\n"
     ]
    }
   ],
   "source": [
    "def binary_search(arr, target):\n",
    "    low, high = 0, len(arr) - 1\n",
    "    while low <= high:\n",
    "        mid = (low + high) // 2\n",
    "        if arr[mid] == target:\n",
    "            return mid\n",
    "        elif arr[mid] < target:\n",
    "            low = mid + 1\n",
    "        else:\n",
    "            high = mid - 1\n",
    "    return -1\n",
    "\n",
    "\n",
    "\n",
    "small_list = list(range(10))\n",
    "medium_list = list(range(100))\n",
    "big_list = list(range(10000))\n",
    "\n",
    "\n",
    "a = timeit.timeit(\"binary_search(small_list, random.random() * len(small_list))\", number=100, globals=globals())\n",
    "b = timeit.timeit(\"binary_search(medium_list, random.random() * len(medium_list))\", number=100, globals=globals())\n",
    "c = timeit.timeit(\"binary_search(big_list, random.random() * len(big_list))\", number=100, globals=globals())\n",
    "print(\"Time to run on small list: {0:.6f}\".format(a))\n",
    "print(\"Time to run on medium list: {0:.6f} which is {1:.2f} times the small list\".format(b, b/a))\n",
    "print(\"Time to run on big list: {} which is {} times the medium list, and {} times the small list\".format(c, c/b, c/a))"
   ]
  },
  {
   "cell_type": "code",
   "execution_count": null,
   "id": "1596dd47-b6a4-40a2-b58a-f55e07518415",
   "metadata": {},
   "outputs": [],
   "source": []
  },
  {
   "cell_type": "code",
   "execution_count": 30,
   "id": "7186aad3-171d-4d5f-b628-b7fbbfcdcb54",
   "metadata": {},
   "outputs": [
    {
     "name": "stdout",
     "output_type": "stream",
     "text": [
      "True\n"
     ]
    }
   ],
   "source": [
    "# Leetcode style question 1\n",
    "def find_all_pairs_with_a_given_sum(lst, val):\n",
    "    result = []\n",
    "    for i in range(len(lst)):\n",
    "        for j in range(len(lst)):\n",
    "            if lst[i]+lst[j] == val and i != j:\n",
    "                result.append((lst[i], lst[j]))\n",
    "\n",
    "    return result\n",
    "\n",
    "res = find_all_pairs_with_a_given_sum([1, 2, 3, 4, 5, 6, 7, 8], 11)\n",
    "print(res == [(3, 8), (4, 7), (5, 6), (6, 5), (7, 4), (8, 3)])\n",
    "# What is the efficiency?\n",
    "# O(n^2)"
   ]
  },
  {
   "cell_type": "code",
   "execution_count": 33,
   "id": "1e8d1b1c-f853-4e8b-8984-fcbcfa5c3830",
   "metadata": {},
   "outputs": [
    {
     "name": "stdout",
     "output_type": "stream",
     "text": [
      "True\n",
      "True\n"
     ]
    }
   ],
   "source": [
    "# Leetcode style question 2\n",
    "def is_palindrome(word):\n",
    "    for i in range((len(word)//2)):\n",
    "        if word[i] != word[(len(word)-1)-i]:\n",
    "            return False\n",
    "    return True\n",
    "\n",
    "res = is_palindrome(\"racecar\")\n",
    "print(res == True)\n",
    "res = is_palindrome(\"toycar\")\n",
    "print(res == False)\n",
    "\n",
    "# What is the efficiency?\n",
    "# O(n)"
   ]
  },
  {
   "cell_type": "code",
   "execution_count": 36,
   "id": "d50eb851-8237-44ee-b3aa-6534f01b3c07",
   "metadata": {},
   "outputs": [
    {
     "data": {
      "text/plain": [
       "{1, 2, 3, 4}"
      ]
     },
     "execution_count": 36,
     "metadata": {},
     "output_type": "execute_result"
    }
   ],
   "source": [
    "#Sets:\n",
    "set1 = {1, 2, 3, 4}\n",
    "set1"
   ]
  },
  {
   "cell_type": "code",
   "execution_count": 49,
   "id": "302b722a-c2e1-49b5-b3d5-429200a8d27c",
   "metadata": {},
   "outputs": [],
   "source": [
    "set1.add(5)"
   ]
  },
  {
   "cell_type": "code",
   "execution_count": 45,
   "id": "b7c03970-49a2-4e73-84ed-4415c48a6acc",
   "metadata": {},
   "outputs": [
    {
     "data": {
      "text/plain": [
       "{1, 2, 3, 4, 5}"
      ]
     },
     "execution_count": 45,
     "metadata": {},
     "output_type": "execute_result"
    }
   ],
   "source": [
    "set1"
   ]
  },
  {
   "cell_type": "code",
   "execution_count": 51,
   "id": "cb08fc6e-2570-4a0c-bd6d-f6518505a3c8",
   "metadata": {},
   "outputs": [],
   "source": [
    "set1.remove(5)"
   ]
  },
  {
   "cell_type": "code",
   "execution_count": 52,
   "id": "f62d56ec-c87c-42c5-bc70-bfe7faba4d1b",
   "metadata": {},
   "outputs": [
    {
     "data": {
      "text/plain": [
       "{1, 2, 3, 4}"
      ]
     },
     "execution_count": 52,
     "metadata": {},
     "output_type": "execute_result"
    }
   ],
   "source": [
    "set1"
   ]
  },
  {
   "cell_type": "code",
   "execution_count": 54,
   "id": "e31ce857-4259-4268-b16a-7054f46102af",
   "metadata": {},
   "outputs": [],
   "source": [
    "set1.update((5, 6))"
   ]
  },
  {
   "cell_type": "code",
   "execution_count": 55,
   "id": "c9ec5578-0d65-40b8-9483-2b4459a7e106",
   "metadata": {},
   "outputs": [
    {
     "data": {
      "text/plain": [
       "{1, 2, 3, 4, 5, 6}"
      ]
     },
     "execution_count": 55,
     "metadata": {},
     "output_type": "execute_result"
    }
   ],
   "source": [
    "set1"
   ]
  },
  {
   "cell_type": "code",
   "execution_count": 57,
   "id": "750ece1e-b1ae-43e8-818a-149bed825865",
   "metadata": {},
   "outputs": [],
   "source": [
    "lst1 = [1, 2, 3, 4, 5]"
   ]
  },
  {
   "cell_type": "code",
   "execution_count": 60,
   "id": "818b9f12-b1ee-4f1a-af41-0481bcb0234f",
   "metadata": {},
   "outputs": [],
   "source": [
    "lst1.insert(4, 8)"
   ]
  },
  {
   "cell_type": "code",
   "execution_count": 61,
   "id": "43e31922-e69e-4c1d-a2a2-3da12c47b86f",
   "metadata": {},
   "outputs": [
    {
     "data": {
      "text/plain": [
       "[1, 2, 3, 4, 8, 5]"
      ]
     },
     "execution_count": 61,
     "metadata": {},
     "output_type": "execute_result"
    }
   ],
   "source": [
    "lst1"
   ]
  },
  {
   "cell_type": "code",
   "execution_count": 62,
   "id": "7f4343d7-f734-4f16-9faa-03ead302a827",
   "metadata": {},
   "outputs": [],
   "source": [
    "lst1.remove(8)"
   ]
  },
  {
   "cell_type": "code",
   "execution_count": 63,
   "id": "77a754b4-eaa4-4a06-9c66-a2a9cd80eac4",
   "metadata": {},
   "outputs": [
    {
     "data": {
      "text/plain": [
       "[1, 2, 3, 4, 5]"
      ]
     },
     "execution_count": 63,
     "metadata": {},
     "output_type": "execute_result"
    }
   ],
   "source": [
    "lst1"
   ]
  },
  {
   "cell_type": "code",
   "execution_count": 64,
   "id": "b1891716-a70b-4460-a608-f3075d9d16cf",
   "metadata": {},
   "outputs": [],
   "source": [
    "lst1[2] = 50"
   ]
  },
  {
   "cell_type": "code",
   "execution_count": 65,
   "id": "5ab522bb-fc40-4c70-815e-55973513e982",
   "metadata": {},
   "outputs": [
    {
     "data": {
      "text/plain": [
       "[1, 2, 50, 4, 5]"
      ]
     },
     "execution_count": 65,
     "metadata": {},
     "output_type": "execute_result"
    }
   ],
   "source": [
    "lst1"
   ]
  },
  {
   "cell_type": "code",
   "execution_count": 66,
   "id": "dbef5eff-010f-46ed-9e42-92533211dc8d",
   "metadata": {},
   "outputs": [],
   "source": [
    "map1 = {'key1': 'value1', 'key2': 'value2'}"
   ]
  },
  {
   "cell_type": "code",
   "execution_count": 71,
   "id": "fd10f6c4-22cb-49aa-ad0f-bb4186dd5453",
   "metadata": {
    "scrolled": true
   },
   "outputs": [
    {
     "data": {
      "text/plain": [
       "'value5'"
      ]
     },
     "execution_count": 71,
     "metadata": {},
     "output_type": "execute_result"
    }
   ],
   "source": [
    "map1['key1']"
   ]
  },
  {
   "cell_type": "code",
   "execution_count": 72,
   "id": "b02949d6-0d35-48b8-a43d-afa6154eb10b",
   "metadata": {},
   "outputs": [],
   "source": [
    "map1['key1'] = 'value5'"
   ]
  },
  {
   "cell_type": "code",
   "execution_count": 73,
   "id": "2e8ccc67-9c86-465a-9f35-43e4a3d94c39",
   "metadata": {},
   "outputs": [
    {
     "data": {
      "text/plain": [
       "'value5'"
      ]
     },
     "execution_count": 73,
     "metadata": {},
     "output_type": "execute_result"
    }
   ],
   "source": [
    "map1['key1']"
   ]
  },
  {
   "cell_type": "code",
   "execution_count": 76,
   "id": "080ccef0-0874-4f69-a89b-a0eea5075a0c",
   "metadata": {},
   "outputs": [
    {
     "data": {
      "text/plain": [
       "'value5'"
      ]
     },
     "execution_count": 76,
     "metadata": {},
     "output_type": "execute_result"
    }
   ],
   "source": [
    "map1.pop('key1')"
   ]
  },
  {
   "cell_type": "code",
   "execution_count": 77,
   "id": "bb93bbae-33ed-4105-ba40-53de21135cec",
   "metadata": {},
   "outputs": [
    {
     "data": {
      "text/plain": [
       "{'key2': 'value2'}"
      ]
     },
     "execution_count": 77,
     "metadata": {},
     "output_type": "execute_result"
    }
   ],
   "source": [
    "map1"
   ]
  },
  {
   "cell_type": "code",
   "execution_count": 80,
   "id": "325ca55c-f789-4ab6-98e8-8d0ea8cd0e53",
   "metadata": {},
   "outputs": [],
   "source": [
    "iter1 = iter([1, 2, 3])"
   ]
  },
  {
   "cell_type": "code",
   "execution_count": 81,
   "id": "69fc7b93-fb13-4484-9bf2-0fcbece99444",
   "metadata": {},
   "outputs": [
    {
     "data": {
      "text/plain": [
       "<list_iterator at 0x107f6fd90>"
      ]
     },
     "execution_count": 81,
     "metadata": {},
     "output_type": "execute_result"
    }
   ],
   "source": [
    "iter1"
   ]
  },
  {
   "cell_type": "code",
   "execution_count": 87,
   "id": "921b989e-5d2f-41d4-a726-9f2de44d5280",
   "metadata": {},
   "outputs": [
    {
     "data": {
      "text/plain": [
       "3"
      ]
     },
     "execution_count": 87,
     "metadata": {},
     "output_type": "execute_result"
    }
   ],
   "source": [
    "next(iter1)"
   ]
  },
  {
   "cell_type": "code",
   "execution_count": 119,
   "id": "d6ca14c3-e694-476a-a64c-893d5f0ed0f9",
   "metadata": {},
   "outputs": [],
   "source": [
    "# Practice: how can you implement a set with a Python list?\n",
    "# Operations: get size, insert a value (without introducing duplicates), remove a specified value, check membership\n",
    "\n",
    "class MySet():\n",
    "    def __init__(self):\n",
    "        self.myset = []\n",
    "        \n",
    "    def get_size(self):\n",
    "        return len(self.myset)\n",
    "    \n",
    "    def insert(self, value):\n",
    "        if value not in self.myset:\n",
    "            self.myset.append(value)\n",
    "    \n",
    "    def remove(self, value):\n",
    "        if value in self.myset:\n",
    "            self.myset.remove(value)\n",
    "    \n",
    "    \n",
    "    def check_membership(self, value):\n",
    "        return value in self.myset\n",
    "\n",
    "\n",
    "myset = MySet()\n",
    "myset.insert(5)\n",
    "myset.insert(6)\n",
    "myset.insert(6)"
   ]
  },
  {
   "cell_type": "code",
   "execution_count": 120,
   "id": "dc648f9b-94f6-443a-9abc-9068c80f403b",
   "metadata": {},
   "outputs": [
    {
     "data": {
      "text/plain": [
       "2"
      ]
     },
     "execution_count": 120,
     "metadata": {},
     "output_type": "execute_result"
    }
   ],
   "source": [
    "myset.get_size()"
   ]
  },
  {
   "cell_type": "code",
   "execution_count": 121,
   "id": "2aea24fc-32ba-40b9-a52f-338fe897f835",
   "metadata": {},
   "outputs": [
    {
     "data": {
      "text/plain": [
       "[5, 6]"
      ]
     },
     "execution_count": 121,
     "metadata": {},
     "output_type": "execute_result"
    }
   ],
   "source": [
    "myset.myset"
   ]
  },
  {
   "cell_type": "code",
   "execution_count": 122,
   "id": "9e5376eb-a3d2-4144-bfec-3d2cd62dbc6c",
   "metadata": {},
   "outputs": [],
   "source": [
    "myset.remove(5)"
   ]
  },
  {
   "cell_type": "code",
   "execution_count": 124,
   "id": "13963cf3-286e-4cd9-bb33-63128c454afb",
   "metadata": {},
   "outputs": [
    {
     "data": {
      "text/plain": [
       "[6]"
      ]
     },
     "execution_count": 124,
     "metadata": {},
     "output_type": "execute_result"
    }
   ],
   "source": [
    "myset.myset"
   ]
  },
  {
   "cell_type": "code",
   "execution_count": 125,
   "id": "af270663-c38f-4ef6-9210-683c13e042ed",
   "metadata": {},
   "outputs": [
    {
     "data": {
      "text/plain": [
       "False"
      ]
     },
     "execution_count": 125,
     "metadata": {},
     "output_type": "execute_result"
    }
   ],
   "source": [
    "myset.check_membership(5)"
   ]
  },
  {
   "cell_type": "code",
   "execution_count": 126,
   "id": "c424f804-bd79-4eb5-8698-38b4afe2c136",
   "metadata": {},
   "outputs": [
    {
     "data": {
      "text/plain": [
       "True"
      ]
     },
     "execution_count": 126,
     "metadata": {},
     "output_type": "execute_result"
    }
   ],
   "source": [
    "myset.check_membership(6)"
   ]
  },
  {
   "cell_type": "code",
   "execution_count": null,
   "id": "db3ce650-a2db-4478-ba4d-e8bd5aecb974",
   "metadata": {},
   "outputs": [],
   "source": []
  },
  {
   "attachments": {
    "images/insertion_sort.png": {
     "image/png": "[encoded data removed]"
    }
   },
   "cell_type": "markdown",
   "id": "8837c9a6-8a69-4356-be21-9298c4317339",
   "metadata": {},
   "source": [
    "# Array-Based Data Structures, Searching, and Sorting\n",
    "\n",
    "## Outline\n",
    "\n",
    "-   Array Based Data Structures\n",
    "\n",
    "    -   Stack, queue, Python List\n",
    "\n",
    "-   Searching\n",
    "\n",
    "    -   Linear, Binary Search\n",
    "\n",
    "-   Sorting\n",
    "\n",
    "    -   Selection, Insertion Sort\n",
    "\n",
    "-   Hash map, hash table (Python dictionary), hash functions\n",
    "\n",
    "# Array Based Data Structures\n",
    "\n",
    "## Abstract Data Types Versus Data Structure\n",
    "\n",
    "-   Some concepts are generally useful and transcend any programming\n",
    "    language\n",
    "\n",
    "-   An **abstract data type** (ADT) defines some kind of data and\n",
    "    operations that can be performed on it\n",
    "\n",
    "    -   Abstract because there is no mention of *how* data is stored or\n",
    "        *how* the operations work\n",
    "\n",
    "    -   Concerned about “what”\n",
    "\n",
    "-   A **data structure** is a concrete method of storing data (and\n",
    "    therefore its operations).\n",
    "\n",
    "    -   For instance, Python List is a data structure because it has a\n",
    "        specific implementation.\n",
    "\n",
    "-   ADTs form a common vocabulary for computer scientists to discuss\n",
    "    problems. It allows us to focus on the design and worry about\n",
    "    implementation later.\n",
    "\n",
    "## Important ADTs\n",
    "\n",
    "-   Set\n",
    "\n",
    "    -   Data: a collection of unique elements\n",
    "\n",
    "    -   Operations: get size, insert a value (without introducing\n",
    "        duplicates), remove a specified value, check membership\n",
    "\n",
    "-   List\n",
    "\n",
    "    -   Data: an ordered sequence of elements\n",
    "\n",
    "    -   Operations: access element by index, insert a value at a given\n",
    "        index, remove a value at a given index\n",
    "\n",
    "## Important ADTs [1]\n",
    "\n",
    "-   Map\n",
    "\n",
    "    -   Data: a collection of key-value pairs, where each key is unique\n",
    "        and associated with a single value\n",
    "\n",
    "    -   Operations: look-up a value for a given key, insert a new\n",
    "        key-value pair, remove a key-value pair, update the value\n",
    "        associated with a given key\n",
    "\n",
    "-   Iterable\n",
    "\n",
    "    -   Data: a collection of values (may or may not be unique)\n",
    "\n",
    "    -   Operations: iterate through the elements of the collection one\n",
    "        at a time.\n",
    "\n",
    "## Relation between ADTs and Data Structures\n",
    "\n",
    "-   A Python `list` is not a ADT. But it is a natural implementation of\n",
    "    the List ADT.\n",
    "\n",
    "    -   The designers of Python implemented `list` operations\n",
    "\n",
    "-   A single ADT can be implemented by many data structures\n",
    "\n",
    "    -   You could implement List ADT using a Python `dict`\n",
    "\n",
    "    -   We can store the list `[\"DS\", 4, \"Life\"]` like this:\n",
    "        `{0: \"DS\", 1: 4, 2: \"Life\"}`\n",
    "\n",
    "-   A data structure can implement many ADTs\n",
    "\n",
    "    -   Practice: how can you implement a set with a Python `list`?\n",
    "\n",
    "## Python Lists\n",
    "\n",
    "-   Each element has an address in memory. The addresses are ordered by\n",
    "    index number and adjacent to each other.\n",
    "\n",
    "-   Run time for `append` method\n",
    "\n",
    "    -   A new address is created and placed at the end of the list\n",
    "\n",
    "    -   $O(1)$ time because it doesn’t matter how long the list is\n",
    "\n",
    "-   Run time for `insert` method\n",
    "\n",
    "    -   The worst case occurs when you insert at the beginning of the\n",
    "        list because each element in the list has to be shifted down by\n",
    "        1.\n",
    "\n",
    "    -   $O(n)$ time\n",
    "\n",
    "-   Run time for `delete` method\n",
    "\n",
    "    -   If you remove the first element, all other elements must be\n",
    "        shifted up by one.\n",
    "\n",
    "    -   $O(n)$ time\n",
    "\n",
    "## Stack\n",
    "\n",
    "-   A stack contains zero or more items\n",
    "\n",
    "    -   Items are added at the top of the stack, called *pushing*\n",
    "\n",
    "    -   Items are removed from the top of the stack, called *popping*\n",
    "\n",
    "-   The first item added to the stack is the last item removed\n",
    "\n",
    "    -   We call this “first-in-last-out” (LIFO) behavior\n",
    "\n",
    "-   2 minutes: is it faster to use the front or back of a Python list to\n",
    "    implement a stack? What is the Big-O for stack operations under each\n",
    "    choice?\n",
    "\n",
    "## Queue\n",
    "\n",
    "-   A queue contains zero or more items\n",
    "\n",
    "    -   Items are added at the rear of the queue, called *enqueue*\n",
    "\n",
    "    -   Items are removed from the front of the queue, called *dequeing*\n",
    "\n",
    "-   Items come out of the queue in the order they were added\n",
    "\n",
    "    -   We call this “first-in-first-out” (FIFO) behavior\n",
    "\n",
    "-   2 minutes: is it faster to use the front or back of a Python list to\n",
    "    implement a queue? What is the Big-O for stack operations under each\n",
    "    choice?\n",
    "\n",
    "# Searching\n",
    "\n",
    "## Motivating Example\n",
    "\n",
    "-   You want to develop a ML method to search through a video to figure\n",
    "    out when an bike is stolen.\n",
    "\n",
    "-   You could start from the beginning of your video feed and run your\n",
    "    ML method on each frame until you the bike is not in the frame.\n",
    "\n",
    "    -   This would take $O(n)$, probably a long time since you’re using\n",
    "        ML\n",
    "\n",
    "-   What if we started halfway through? If the bike was there, then\n",
    "    break the remaining video in half and check again. If the bike\n",
    "    wasn’t there, then break the previous part of the video in half and\n",
    "    check again.\n",
    "\n",
    "    -   This is *binary search*\n",
    "\n",
    "## Binary Versus Linear Search\n",
    "\n",
    "-   How many steps does binary searching through 100 numbers take?\n",
    "    10,000?\n",
    "\n",
    "    -   We can generalize this as $O(\\text{log}n)$\n",
    "\n",
    "-   What is the big-O of linear searching through 100 numbers? 10,000?\n",
    "\n",
    "    -   $O(n)$\n",
    "\n",
    "-   Notice binary search requires the list to be sorted in advance.\n",
    "\n",
    "    -   We implicitly assumed this in the bike theft example (time is\n",
    "        “sorted”)\n",
    "\n",
    "# Sorting\n",
    "\n",
    "## Selection Sort\n",
    "\n",
    "-   Suppose you want to sort prices of all fruits at a supermarket from\n",
    "    lowest to highest\n",
    "\n",
    "-   You go through the list, find the item with the lowest price then\n",
    "    place it on top, then find the second lowest price and place it\n",
    "    second, etc.\n",
    "\n",
    "    -   You will end up with a sorted list!\n",
    "\n",
    "-   To find the lowest price, you need to traverse the entire list. You\n",
    "    must do this $n$ times until there are no more items.\n",
    "\n",
    "    -   This takes $O(n^2)$ time\n",
    "\n",
    "## Insertion Sort\n",
    "\n",
    "-   Compare the current item to its predecessor. If the item is smaller\n",
    "    than its predecessor, compare it to the items before. Move the\n",
    "    greater items one position up to make space for the swapped item.\n",
    "\n",
    "-   You need to traverse the list once for each item in the list, so the\n",
    "    Big-O is $O(n^2)$.\n",
    "\n",
    "![](./images/insertion_sort.png)\n",
    "\n",
    "## Live Coding:\n",
    "\n",
    "The *h-index* is defined by Wikipedia as the maximum value of $h$ such\n",
    "that the given researcher has published at least $h$ papers that have\n",
    "each been cited at least $h$ times.\n",
    "\n",
    "Given a list of integers representing a researcher. Each index is their\n",
    "$ith$ publication and the value at the $ith$ index is the number of\n",
    "citation. Calculate the h-index of that researcher.\n",
    "\n",
    "### Example\n",
    "\n",
    "[1] From https://www.teach.cs.toronto.edu/~csc148h/winter/notes/"
   ]
  },
  {
   "cell_type": "code",
   "execution_count": 133,
   "id": "fd88bcec",
   "metadata": {},
   "outputs": [
    {
     "data": {
      "text/plain": [
       "4"
      ]
     },
     "execution_count": 133,
     "metadata": {},
     "output_type": "execute_result"
    }
   ],
   "source": [
    "# INPUT\n",
    "lst = [2,2,5,6,31,7]\n",
    "\n",
    "def h_index(lst):\n",
    "    count = 0\n",
    "    for i in reversed(range(1, len(lst)+1)):\n",
    "        for j in range(len(lst)):\n",
    "            if lst[j] >= i:\n",
    "                count += 1\n",
    "            if count == i:\n",
    "                return i\n",
    "        count = 0\n",
    "        \n",
    "    return 0\n",
    "\n",
    "\n",
    "h_index(lst)\n",
    "# OUTPUT\n",
    "# 2"
   ]
  },
  {
   "cell_type": "markdown",
   "id": "7c3265c3-d522-4c73-8f61-8ac240af5395",
   "metadata": {},
   "source": [
    "# Hash map, hash table (Python dictionary), hash functions\n",
    "\n",
    "## Motivating Example\n",
    "\n",
    "-   Recall from the first lecture that searching in a Python set took\n",
    "    (basically) 0 seconds\n",
    "\n",
    "    -   How was this achieved?\n",
    "\n",
    "    -   Binary search only has $O(\\text{log}n)$ time, so there must be\n",
    "        something else\n",
    "\n",
    "-   To achieve $O(1)$ time, we need something that immediately knows the\n",
    "    where/what the item is.\n",
    "\n",
    "    -   This is the purpose of *hash functions*\n",
    "\n",
    "## Hash Functions\n",
    "\n",
    "-   A hash function is a function where you enter a string and it\n",
    "    returns an integer\n",
    "\n",
    "    -   Python objects have hash"
   ]
  },
  {
   "cell_type": "code",
   "execution_count": 4,
   "id": "92fbc341",
   "metadata": {},
   "outputs": [
    {
     "data": {
      "text/plain": [
       "-3330093284001279183"
      ]
     },
     "execution_count": 4,
     "metadata": {},
     "output_type": "execute_result"
    }
   ],
   "source": [
    "hash(\"DS 4 Life\")"
   ]
  },
  {
   "cell_type": "markdown",
   "id": "5e90a472-56d3-43ec-ad80-c348ccf52c6d",
   "metadata": {},
   "source": [
    "-   There are two requirements for a hash function\n",
    "\n",
    "    -   It needs to be consistent. For instance, if you enter “UofT” and\n",
    "        get “1827”, then every time you enter “UofT” you should get\n",
    "        “1827”\n",
    "\n",
    "    -   It maps different words to different numbers. Each string has a\n",
    "        unique hash.\n",
    "\n",
    "## Using Hash Functions: Example\n",
    "\n",
    "-   Suppose you have a grocery store catalog with prices and barcodes.\n",
    "    When you scan an item at checkout, you want it to instantly return\n",
    "    the price.\n",
    "\n",
    "-   You can put each barcode into a hash function.\n",
    "\n",
    "    -   Let’s say barcode “1234” *hashes* to “1” and “2” hashes to\n",
    "        “9876”\n",
    "\n",
    "    -   We store the price of item “1234” at address “1”. Store the\n",
    "        price of item “4321” at address “2”\n",
    "\n",
    "    -   We say the price at “1” is the *hash value* of “1”\n",
    "\n",
    "-   If there are 8 items sold at the store, then the hash function will\n",
    "    only return integers from 1 to 8\n",
    "\n",
    "    -   The size of the hash table is often referred to as its number of\n",
    "        bins or slots.\n",
    "\n",
    "    -   Thus, the hash function depends on the array\n",
    "\n",
    "-   This implementation is called a *hash table*\n",
    "\n",
    "    -   The hash table is basically a list of lists, and the hash\n",
    "        function maps an object to its location in the outer list.\n",
    "\n",
    "## Python’s Hash Tables: `dict`\n",
    "\n",
    "-   You will likely never implement a hash table yourself, most\n",
    "    languages have an implementation for has tables.\n",
    "\n",
    "    -   In Python, this is the `dict` class\n",
    "\n",
    "-   Dictionaries have keys and values (barcodes and prices)\n",
    "\n",
    "-   Dictionaries have really good performance. Search, insert, or delete\n",
    "    item are all are $O(1)$ in the average case.\n",
    "\n",
    "    -   Average case assumes you have a “good” hash function that avoids\n",
    "        *collisions*. You can read more about collisions in the\n",
    "        textbooks.\n",
    "\n",
    "    -   The worst case of Python dictionaries for search, insert, and\n",
    "        delete is $O(n)$.\n",
    "\n",
    "-   Recall Python dictionaries don’t allow duplicate keys, that is\n",
    "    because has hashes must be unique!\n",
    "\n",
    "## Python `set`\n",
    "\n",
    "-   Recall during the first lecture, we showcased that Python’s set\n",
    "    search was much faster than list search\n",
    "\n",
    "-   This is because Python’s set implements a hash function to store its\n",
    "    values\n",
    "\n",
    "# Recommended Problems and References\n",
    "\n",
    "## Recommended Problems\n",
    "\n",
    "-   Bhargava: Chapter 5\n",
    "\n",
    "    -   5.1 to 5.4\n",
    "\n",
    "    -   Read pages 79 to 86 on the use cases of hash functions\n",
    "\n",
    "-   Additional\n",
    "\n",
    "    -   Give examples of 2 situations to use a queue and 2 situations to\n",
    "        use a stack\n",
    "\n",
    "    -   In Python, code a `stack` class with `is_empty`, `push`, and\n",
    "        `pop` methods using the end of a Python list as the top of the\n",
    "        stack. Bonus: Compare the run time of using the start of the\n",
    "        list versus the end of the list as the top of the stack using\n",
    "        the `timeit` library!\n",
    "\n",
    "    -   In Python, code a `binary_search` function.\n",
    "\n",
    "    -   In Python, code a `hash_table` that can hash 4 values.\n",
    "\n",
    "## References\n",
    "\n",
    "-   Bhargava, A. Y. (2016). *Grokking algorithms: An illustrated guide\n",
    "    for programmers and other curious people.* Manning. Chapter 5.\n",
    "\n",
    "-   Cormen, T. H. (Ed.). (2009). *Introduction to algorithms* (3rd ed).\n",
    "    MIT Press. Chapter 2, 10, 11.\n",
    "\n",
    "-   Horton, D., & Liu, D. (2023, November 19). *CSC148 Lecture Notes*.\n",
    "    https://www.teach.cs.toronto.edu/~csc148h/winter/notes/"
   ]
  },
  {
   "cell_type": "code",
   "execution_count": null,
   "id": "c0856ca0-d0e1-4d45-ad76-b64f8d1a1492",
   "metadata": {},
   "outputs": [],
   "source": []
  },
  {
   "cell_type": "code",
   "execution_count": 49,
   "id": "9633d413-80c6-41b3-8f55-fe0031533f15",
   "metadata": {},
   "outputs": [],
   "source": [
    "\n",
    "class MyHashTable():\n",
    "    def __init__(self, size=100):\n",
    "        self.hash_table = [[]] * size\n",
    "\n",
    "    def my_hashfunction(self, value):\n",
    "        return hash(value) % len(self.hash_table)\n",
    "\n",
    "    def insert_value(self, key, value):\n",
    "        self.hash_table[self.my_hashfunction(key)] = (key, value)\n",
    "\n",
    "    def get_value(self, key):\n",
    "        return self.hash_table[self.my_hashfunction(key)]\n",
    "\n",
    "    def (self):\n",
    "        return self.hash_table"
   ]
  },
  {
   "cell_type": "code",
   "execution_count": 50,
   "id": "ac3ba414-054a-4a80-860e-988d5e039bec",
   "metadata": {},
   "outputs": [],
   "source": [
    "ht = MyHashTable(size=5)"
   ]
  },
  {
   "cell_type": "code",
   "execution_count": 51,
   "id": "a49524fd-722c-4e81-a6e5-0f77e929f251",
   "metadata": {},
   "outputs": [],
   "source": [
    "ht.insert_value(\"Salaar\", \"Computer Science\")"
   ]
  },
  {
   "cell_type": "code",
   "execution_count": 44,
   "id": "36433885-2e44-417a-9311-d5639da463ea",
   "metadata": {},
   "outputs": [
    {
     "data": {
      "text/plain": [
       "3"
      ]
     },
     "execution_count": 44,
     "metadata": {},
     "output_type": "execute_result"
    }
   ],
   "source": [
    "ht.my_hashfunction(\"Salaar\")"
   ]
  },
  {
   "cell_type": "code",
   "execution_count": 47,
   "id": "cdb2dd93-e934-492e-ad35-11d5f568912c",
   "metadata": {},
   "outputs": [
    {
     "data": {
      "text/plain": [
       "1"
      ]
     },
     "execution_count": 47,
     "metadata": {},
     "output_type": "execute_result"
    }
   ],
   "source": [
    "ht.my_hashfunction(\"Jacob\")"
   ]
  },
  {
   "cell_type": "code",
   "execution_count": 48,
   "id": "5453ff51-e1f9-4748-aebe-6e8fec4eec83",
   "metadata": {},
   "outputs": [
    {
     "data": {
      "text/plain": [
       "1"
      ]
     },
     "execution_count": 48,
     "metadata": {},
     "output_type": "execute_result"
    }
   ],
   "source": [
    "ht.my_hashfunction(\"John\")"
   ]
  },
  {
   "cell_type": "code",
   "execution_count": 53,
   "id": "5935ec06-3fbf-4fe2-8794-3f3f683dbfce",
   "metadata": {},
   "outputs": [],
   "source": [
    "key = \"Salaar\"\n",
    "value = \"CS\"\n",
    "\n",
    "hash_value = hash(key)%100 #O(1)\n",
    "hash_table[hash_value] = value # O(1)\n",
    "return hash_table[hash_value] # O(1) # Worst case is O(n)"
   ]
  },
  {
   "cell_type": "code",
   "execution_count": null,
   "id": "4afa3689-5d32-413d-ac1f-b84f784bf5c5",
   "metadata": {},
   "outputs": [],
   "source": [
    "# binary search\n",
    "# Requirement data is sorted O(nlogn)\n",
    "# O(log n)"
   ]
  },
  {
   "cell_type": "code",
   "execution_count": 54,
   "id": "894f368d-0af8-4a18-9c65-eb2ba811f437",
   "metadata": {},
   "outputs": [
    {
     "data": {
      "text/plain": [
       "-4026273062846477375"
      ]
     },
     "execution_count": 54,
     "metadata": {},
     "output_type": "execute_result"
    }
   ],
   "source": [
    "hash(\"test val\")"
   ]
  },
  {
   "cell_type": "code",
   "execution_count": null,
   "id": "b88249ab-a6f1-4324-8ae4-2dbd8622139c",
   "metadata": {},
   "outputs": [],
   "source": []
  }
 ],
 "metadata": {
  "kernelspec": {
   "display_name": "Python 3 (ipykernel)",
   "language": "python",
   "name": "python3"
  },
  "language_info": {
   "codemirror_mode": {
    "name": "ipython",
    "version": 3
   },
   "file_extension": ".py",
   "mimetype": "text/x-python",
   "name": "python",
   "nbconvert_exporter": "python",
   "pygments_lexer": "ipython3",
   "version": "3.11.5"
  }
 },
 "nbformat": 4,
 "nbformat_minor": 5
}
