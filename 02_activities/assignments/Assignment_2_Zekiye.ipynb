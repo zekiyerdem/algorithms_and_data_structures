{
 "cells": [
  {
   "cell_type": "markdown",
   "metadata": {},
   "source": [
    "# Assignment-2:\n",
    "## Prepared by:  Zekiye Erdem"
   ]
  },
  {
   "cell_type": "markdown",
   "metadata": {},
   "source": [
    "## Paraphrase the problem in your own words."
   ]
  },
  {
   "cell_type": "markdown",
   "metadata": {},
   "source": [
    "**Original Question:** Given the root of a binary tree, check whether it is contains a duplicate value. If a duplicate exists, return the duplicate value. If there are multiple duplicates, return the one with the closest distance to the root. If no duplicate exists, return -1.\n",
    "\n",
    "**Paraphrase Quesiton:** We will examine a binary tree to check if it contains duplicate values. If a duplicate exists, return the duplicate value. If there are multiple duplicates, return the one with the closest distance to the root. If no duplicates are found, return -1."
   ]
  },
  {
   "cell_type": "markdown",
   "metadata": {},
   "source": [
    "## Create 1 new example."
   ]
  },
  {
   "cell_type": "markdown",
   "metadata": {},
   "source": [
    "**Example**\n",
    "- Input = [7, 3, 8, 1, 3, 10, 8]\n",
    "- Output =[3]\n"
   ]
  },
  {
   "cell_type": "markdown",
   "metadata": {},
   "source": [
    "        7\n",
    "       / \\\n",
    "      3   8\n",
    "     / \\   \\\n",
    "    1   3   8\n"
   ]
  },
  {
   "cell_type": "markdown",
   "metadata": {},
   "source": [
    "**Explanation:**\n",
    "- The root node is 7.\n",
    "- The left child of 7 is 3, and the right child of 7 is 8.\n",
    "- The left subtree of 3 has children 1 and 3.\n",
    "- The right subtree of 8 has a child 8.\n",
    "\n",
    "- Duplicate values:\n",
    "\n",
    "- 3 occurs twice (closer to the root at level 2).\n",
    "- 8 also occurs twice but is further from the root (level 3).\n",
    "\n",
    "So Output should be : 3"
   ]
  },
  {
   "cell_type": "markdown",
   "metadata": {},
   "source": [
    "\n",
    "## Trace/walkthrough 1 example that your partner made and explain it."
   ]
  },
  {
   "cell_type": "markdown",
   "metadata": {},
   "source": [
    "**My partner Example:**\n",
    "\n",
    " 1- Here, the value 3 appears twice, with the second occurrence as the left child of the node with value 3. \n",
    " The expected output should be 3 since it’s the first duplicate encountered closest to the root.\n",
    " \n",
    "- Input: root = TreeNode(5, TreeNode(3, TreeNode(2), TreeNode(3)), TreeNode(7))\n",
    "- Expected Output: 3\n",
    "\n",
    "**My Walkthrough:**\n",
    "\n",
    "Correspondance tree structure from my partner's example:\n",
    "\n",
    "        5\n",
    "       / \\\n",
    "      3   7\n",
    "     / \\\n",
    "    2   3\n",
    "\n",
    "\n",
    "**Steps to Check for Duplicates:**\n",
    "\n",
    "1.  Start at the root node with value 5.\n",
    "    - Add 5 to a set of seen values: seen = {5}.\n",
    "\n",
    "2. Move to the left child of 5, which is 3.\n",
    "    - Add 3 to the set: seen = {5, 3}.\n",
    "\n",
    "3. Move to the left child of 3, which is 2.\n",
    "    - Add 2 to the set: seen = {5, 3, 2}.\n",
    "\n",
    "4.  Move to the right child of 3, which is another 3.\n",
    "    - Check if 3 is already in the set: Yes, it is. This is the first duplicate encountered closest to the root.\n",
    "    \n",
    "**Output:** The duplicate value closest to the root is 3.\n"
   ]
  },
  {
   "cell_type": "markdown",
   "metadata": {},
   "source": [
    "## Copy the solution your partner wrote. "
   ]
  },
  {
   "cell_type": "code",
   "execution_count": 1,
   "metadata": {},
   "outputs": [],
   "source": [
    "from collections import deque\n",
    "\n",
    "# Definition for a binary tree node.\n",
    "class TreeNode(object):\n",
    "    def __init__(self, val = 0, left = None, right = None):\n",
    "        self.val = val\n",
    "        self.left = left\n",
    "        self.right = right\n",
    "def is_duplicate(root: TreeNode) -> int:\n",
    "     if not root:\n",
    "        return -1\n",
    "    \n",
    "    # Use a set to keep track of seen values\n",
    "     seen = set()\n",
    "    # Use a queue for BFS\n",
    "     queue = deque([root])\n",
    "    \n",
    "     while queue:\n",
    "        node = queue.popleft()\n",
    "        \n",
    "        # Check if the value has already been seen\n",
    "        if node.val in seen:\n",
    "            return node.val\n",
    "        seen.add(node.val)\n",
    "        \n",
    "        # Add the left and right children to the queue if they exist\n",
    "        if node.left:\n",
    "            queue.append(node.left)\n",
    "        if node.right:\n",
    "            queue.append(node.right)\n",
    "    \n",
    "    # If no duplicates are found\n",
    "     return -1"
   ]
  },
  {
   "cell_type": "markdown",
   "metadata": {},
   "source": [
    "## Explain why their solution works in your own words."
   ]
  },
  {
   "cell_type": "markdown",
   "metadata": {},
   "source": [
    "My partner's provided solution is designed to check for duplicates in a binary tree using *Breadth-First Search* (BFS).\n",
    "\n",
    "1. Breadth-First Search Approach:\n",
    "\n",
    "    The BFS algorithm is used here to traverse the binary tree level by level. This ensures that the nodes closer to the root are checked for duplicates before the nodes at deeper levels. Since the problem requires returning the duplicate closest to the root, BFS is the ideal choice.\n",
    "\n",
    "2. Use of a Set to Track Seen Values: \n",
    "\n",
    "    The **seen** set is used to keep track of all values encountered during the traversal:\n",
    "\n",
    "    - When a node's value is encountered, it is checked against the seen set.\n",
    "    - If the value is already in the set, it means a duplicate has been found.\n",
    "    - If not, the value is added to the seen set.\n",
    "    - This ensures efficient checking for duplicates in O(1) time for each value.\n",
    "\n",
    "3. Queue for Level-Order Traversal: \n",
    "\n",
    "    The deque from the collections module is used to implement the queue for BFS:\n",
    "\n",
    "    - Nodes are added to the queue as they are discovered (i.e., their left and right children).\n",
    "    - Nodes are processed one at a time in the order they were added, ensuring level-order traversal.\n",
    "\n",
    "4. Edge Case Handling:\n",
    "\n",
    "    - If the tree is empty (root is None), the function immediately returns -1, as no duplicates can exist.\n",
    "    - If no duplicates are found after traversing all nodes, the function returns -1.\n",
    "\n"
   ]
  },
  {
   "cell_type": "markdown",
   "metadata": {},
   "source": [
    "## Explain the problem’s time and space complexity in your own words."
   ]
  },
  {
   "cell_type": "markdown",
   "metadata": {},
   "source": [
    "**Complexity Analysis:**\n",
    "\n",
    "Time Complexity: Each node is visited exactly once. Checking for duplicates in a set is 𝑂(1) per node.\n",
    "Overall time complexity is **O(n)**, where 𝑛 is the number of nodes.\n",
    "\n",
    "Space Complexity: The space required for the seen set is proportional to the number of unique nodes: O(n).\n",
    "The queue can hold at most the number of nodes at the widest level of the tree: O(w), where 𝑤 is the maximum width of the tree. Thus, the total space complexity is **O(n)**."
   ]
  },
  {
   "cell_type": "markdown",
   "metadata": {},
   "source": [
    "## Critique your partner's solution, including explanation, and if there is anything that should be adjusted."
   ]
  },
  {
   "cell_type": "markdown",
   "metadata": {},
   "source": [
    "The solution efficiently detects duplicates in a binary tree using Breadth-First Search (BFS), ensuring duplicates closest to the root are found first. \n",
    "\n",
    "A set tracks seen values, enabling constant time checks for duplicates, while a deque handles level-order traversal. This approach is time-efficient 𝑂(𝑛) and space-efficient 𝑂(𝑛) but could be further optimized for large trees. \n",
    "\n",
    "It correctly handles edge cases like an empty tree or no duplicates but assumes all node values are hashable.\n",
    "\n",
    " Improvements include adding comments for clarity, handling non-hashable values, and explicitly tracking node depth for future extensions. "
   ]
  },
  {
   "cell_type": "markdown",
   "metadata": {},
   "source": [
    "## Reflection\n",
    "\n",
    "Please write a 200 word reflection documenting your process from assignment 1, and your presentation and review experience with your partner at the bottom of the Jupyter Notebook under a new heading \"Reflection.\" Again, export this Notebook as pdf.\n",
    "\n"
   ]
  },
  {
   "cell_type": "markdown",
   "metadata": {},
   "source": [
    "In **Assignment 1**, I developed an algorithm to identify missing values in an integer list using negative indexing. The process began with understanding the problem's requirements: to detect missing values efficiently within the constraints of an array. My approach leverages each number in the array to mark its corresponding index as negative. This method works because any index that remains positive indicates a missing value.\n",
    "\n",
    "The choice of negative indexing was both innovative and practical. It eliminated the need for additional data structures, reducing space complexity. The algorithm's simplicity also ensures it operates in linear time, making it highly efficient for large arrays. A significant realization during this process was how well the method handles duplicates. Even if a number appears multiple times, it re-marks the same index, leaving the results unaffected and ensuring missing values are still correctly identified.\n",
    "\n",
    "One challenge I faced was ensuring the algorithm correctly handles edge cases, such as empty arrays or numbers outside the expected range. By iterating through potential issues, I fine-tuned the implementation to handle all cases robustly. This assignment strengthened my understanding of in-place array manipulation and algorithm design, showcasing the power of leveraging array indices for efficient problem-solving."
   ]
  }
 ],
 "metadata": {
  "kernelspec": {
   "display_name": "Python 3",
   "language": "python",
   "name": "python3"
  },
  "language_info": {
   "codemirror_mode": {
    "name": "ipython",
    "version": 3
   },
   "file_extension": ".py",
   "mimetype": "text/x-python",
   "name": "python",
   "nbconvert_exporter": "python",
   "pygments_lexer": "ipython3",
   "version": "3.12.4"
  }
 },
 "nbformat": 4,
 "nbformat_minor": 2
}
